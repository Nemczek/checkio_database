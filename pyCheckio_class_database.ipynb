{
  "nbformat": 4,
  "nbformat_minor": 0,
  "metadata": {
    "colab": {
      "provenance": [],
      "authorship_tag": "ABX9TyNRFsCsc33dr3NOiMR7OLbK",
      "include_colab_link": true
    },
    "kernelspec": {
      "name": "python3",
      "display_name": "Python 3"
    },
    "language_info": {
      "name": "python"
    }
  },
  "cells": [
    {
      "cell_type": "markdown",
      "metadata": {
        "id": "view-in-github",
        "colab_type": "text"
      },
      "source": [
        "<a href=\"https://colab.research.google.com/github/Nemczek/pycheckio_database/blob/main/pyCheckio_class_database.ipynb\" target=\"_parent\"><img src=\"https://colab.research.google.com/assets/colab-badge.svg\" alt=\"Open In Colab\"/></a>"
      ]
    },
    {
      "cell_type": "markdown",
      "source": [
        "# Project pyCheckio"
      ],
      "metadata": {
        "id": "W0dFKkymJbUV"
      }
    },
    {
      "cell_type": "markdown",
      "source": [
        "## Setting up"
      ],
      "metadata": {
        "id": "LPW8eWDNohM2"
      }
    },
    {
      "cell_type": "code",
      "execution_count": 1,
      "metadata": {
        "id": "xvAMCuKTJX7u"
      },
      "outputs": [],
      "source": [
        "# importing libraries\n",
        "import requests\n",
        "import pandas as pd\n",
        "import sqlalchemy as db"
      ]
    },
    {
      "cell_type": "code",
      "source": [
        "# static variables\n",
        "BASE_URL = 'https://py.checkio.org/api/group-details/'\n",
        "GROUP_PROGRESS_API_BASE = 'https://py.checkio.org/api/group-progress/'\n",
        "GROUP_ACTIVITY_API_BASE = 'https://py.checkio.org/api/group-activity/'\n",
        "TOKEN = None\n",
        "\n",
        "URL_WITH_TOKEN = BASE_URL + TOKEN\n",
        "PROGRESS_API_WITH_TOKEN = GROUP_PROGRESS_API_BASE + TOKEN\n",
        "ACTIVITY_API_WITH_TOKEN = GROUP_ACTIVITY_API_BASE + TOKEN"
      ],
      "metadata": {
        "id": "vpHhnRx8Pjiv"
      },
      "execution_count": 65,
      "outputs": []
    },
    {
      "cell_type": "code",
      "source": [
        "# listing all classes\n",
        "requests.get(URL_WITH_TOKEN).json()['objects']"
      ],
      "metadata": {
        "colab": {
          "base_uri": "https://localhost:8080/"
        },
        "id": "Jkf75Nc-VPru",
        "outputId": "a4639475-4bfb-493e-f19b-cd4f818124f7"
      },
      "execution_count": 27,
      "outputs": [
        {
          "output_type": "execute_result",
          "data": {
            "text/plain": [
              "[{'name': '2021-2022 Jezyki programowania 1',\n",
              "  'slug': 'jezyki-programowania-1',\n",
              "  'default_language': 'en',\n",
              "  'description_text': '',\n",
              "  'created_at': '2021-10-06',\n",
              "  'membership_admission': 'Anyone but the approval is required',\n",
              "  'is_auto_following_enabled': True,\n",
              "  'is_email_review_activated': True,\n",
              "  'is_group_default_filter': False,\n",
              "  'is_full_access': False,\n",
              "  'is_leaderboard_enabled': True,\n",
              "  'is_monthly_leaderboard_default': False,\n",
              "  'is_revisions_enabled': True,\n",
              "  'is_member_profiles_visible_for_site': False,\n",
              "  'is_member_solutions_visible_for_site': False,\n",
              "  'is_site_solutions_visible_for_members': True,\n",
              "  'members_count': 25,\n",
              "  'last_activity': '2023-03-24 12:41',\n",
              "  'course': 'CheckiO [Easy] (no points for votes)',\n",
              "  'is_current_group': False},\n",
              " {'name': 'stara Języki programowania 1 grupa 2',\n",
              "  'slug': 'jezyki-programowania-1-grupa-2',\n",
              "  'default_language': 'en',\n",
              "  'description_text': '',\n",
              "  'created_at': '2021-02-26',\n",
              "  'membership_admission': 'Only by invitation via email',\n",
              "  'is_auto_following_enabled': True,\n",
              "  'is_email_review_activated': True,\n",
              "  'is_group_default_filter': True,\n",
              "  'is_full_access': False,\n",
              "  'is_leaderboard_enabled': True,\n",
              "  'is_monthly_leaderboard_default': False,\n",
              "  'is_revisions_enabled': True,\n",
              "  'is_member_profiles_visible_for_site': True,\n",
              "  'is_member_solutions_visible_for_site': True,\n",
              "  'is_site_solutions_visible_for_members': True,\n",
              "  'members_count': 11,\n",
              "  'last_activity': '2021-03-15 19:15',\n",
              "  'course': 'CheckiO-2021',\n",
              "  'is_current_group': False},\n",
              " {'name': 'stara Języki programowania 1 grupa 1',\n",
              "  'slug': 'jezyki-programowania-1-grupa-1',\n",
              "  'default_language': 'en',\n",
              "  'description_text': '',\n",
              "  'created_at': '2021-02-26',\n",
              "  'membership_admission': 'Only by invitation via email',\n",
              "  'is_auto_following_enabled': True,\n",
              "  'is_email_review_activated': True,\n",
              "  'is_group_default_filter': True,\n",
              "  'is_full_access': False,\n",
              "  'is_leaderboard_enabled': True,\n",
              "  'is_monthly_leaderboard_default': False,\n",
              "  'is_revisions_enabled': True,\n",
              "  'is_member_profiles_visible_for_site': True,\n",
              "  'is_member_solutions_visible_for_site': True,\n",
              "  'is_site_solutions_visible_for_members': True,\n",
              "  'members_count': 16,\n",
              "  'last_activity': '2021-06-09 11:29',\n",
              "  'course': 'CheckiO-2021',\n",
              "  'is_current_group': False},\n",
              " {'name': 'Test class to be deleted',\n",
              "  'slug': 'test-class-to-be-deleted',\n",
              "  'default_language': 'en',\n",
              "  'description_text': None,\n",
              "  'created_at': '2021-02-16',\n",
              "  'membership_admission': 'Anyone but the approval is required',\n",
              "  'is_auto_following_enabled': True,\n",
              "  'is_email_review_activated': True,\n",
              "  'is_group_default_filter': False,\n",
              "  'is_full_access': False,\n",
              "  'is_leaderboard_enabled': True,\n",
              "  'is_monthly_leaderboard_default': False,\n",
              "  'is_revisions_enabled': True,\n",
              "  'is_member_profiles_visible_for_site': False,\n",
              "  'is_member_solutions_visible_for_site': False,\n",
              "  'is_site_solutions_visible_for_members': True,\n",
              "  'members_count': 0,\n",
              "  'last_activity': None,\n",
              "  'course': 'CheckiO-2021',\n",
              "  'is_current_group': False},\n",
              " {'name': 'Michal Wojcik 2022-2023',\n",
              "  'slug': 'michal-wojcik-2022-2023',\n",
              "  'default_language': 'en',\n",
              "  'description_text': '',\n",
              "  'created_at': '2022-10-04',\n",
              "  'membership_admission': 'Anyone but the approval is required',\n",
              "  'is_auto_following_enabled': True,\n",
              "  'is_email_review_activated': True,\n",
              "  'is_group_default_filter': False,\n",
              "  'is_full_access': False,\n",
              "  'is_leaderboard_enabled': True,\n",
              "  'is_monthly_leaderboard_default': False,\n",
              "  'is_revisions_enabled': True,\n",
              "  'is_member_profiles_visible_for_site': False,\n",
              "  'is_member_solutions_visible_for_site': True,\n",
              "  'is_site_solutions_visible_for_members': True,\n",
              "  'members_count': 49,\n",
              "  'last_activity': '2023-06-03 14:13',\n",
              "  'course': 'CheckiO [Normal]',\n",
              "  'is_current_group': False}]"
            ]
          },
          "metadata": {},
          "execution_count": 27
        }
      ]
    },
    {
      "cell_type": "code",
      "source": [
        "def get_slug(url):\n",
        "  \"\"\"\n",
        "  Returns slag parameter of our current class\n",
        "\n",
        "  Parameters:\n",
        "  url (str): URL to our class details\n",
        "\n",
        "  Returns:\n",
        "  slug (str): the slug parameter \n",
        "  \"\"\"\n",
        "  slug = requests.get(url).json()['objects'][4]['slug'] # 4 is the index of our class\n",
        "  return slug\n",
        "print(get_slug(URL_WITH_TOKEN))"
      ],
      "metadata": {
        "colab": {
          "base_uri": "https://localhost:8080/"
        },
        "id": "K3Yb5-DoJ4sD",
        "outputId": "3f7b6f36-12e2-46d8-b5ee-c511c23b0331"
      },
      "execution_count": 17,
      "outputs": [
        {
          "output_type": "stream",
          "name": "stdout",
          "text": [
            "michal-wojcik-2022-2023\n"
          ]
        }
      ]
    },
    {
      "cell_type": "code",
      "source": [
        "print(ACTIVITY_API_WITH_TOKEN)"
      ],
      "metadata": {
        "colab": {
          "base_uri": "https://localhost:8080/"
        },
        "id": "TOI6XHtVhcAE",
        "outputId": "f6d7afc4-932f-44a8-e864-8cc7533ae16a"
      },
      "execution_count": 28,
      "outputs": [
        {
          "output_type": "stream",
          "name": "stdout",
          "text": [
            "https://py.checkio.org/api/group-activity/?token=277869ee829d44609019622889900651\n"
          ]
        }
      ]
    },
    {
      "cell_type": "markdown",
      "source": [
        "## Activity API"
      ],
      "metadata": {
        "id": "cRFo117uoc0d"
      }
    },
    {
      "cell_type": "code",
      "source": [
        "# Using Group Progress API\n",
        "class_slug = get_slug(URL_WITH_TOKEN)\n",
        "activity_url_with_slug = f\"{ACTIVITY_API_WITH_TOKEN}&slug={class_slug}\"\n",
        "\n",
        "resp = requests.get(url_with_slug).json()['objects']\n",
        "#requests.get(url_with_slug).json()['objects'][2]['data']\n",
        "resp[2]"
      ],
      "metadata": {
        "id": "dckeVwmZPffJ"
      },
      "execution_count": null,
      "outputs": []
    },
    {
      "cell_type": "markdown",
      "source": [
        "## Progress API"
      ],
      "metadata": {
        "id": "x8WDeL6roXzs"
      }
    },
    {
      "cell_type": "code",
      "source": [
        "progress_url_with_slug = f\"{PROGRESS_API_WITH_TOKEN}&slug={class_slug}\"\n",
        "progress_data = requests.get(progress_url_with_slug).json()['objects']"
      ],
      "metadata": {
        "id": "1RoKJuxwoatj"
      },
      "execution_count": null,
      "outputs": []
    },
    {
      "cell_type": "code",
      "source": [
        "progress_data[0]['data']\n",
        "\n",
        "usernames = []\n",
        "for i in progress_data[0]['data']:\n",
        "  if i['username'] not in usernames:\n",
        "    usernames.append(i['username'])\n",
        "usernames"
      ],
      "metadata": {
        "colab": {
          "base_uri": "https://localhost:8080/"
        },
        "id": "N2rkcJ-Pp3Z6",
        "outputId": "9041794c-8abc-4002-a417-0b931e880d42"
      },
      "execution_count": 73,
      "outputs": [
        {
          "output_type": "execute_result",
          "data": {
            "text/plain": [
              "['karol2202',\n",
              " '117374',\n",
              " 'Antoni_Wojcik',\n",
              " 'Karolina_Zadura',\n",
              " '126083',\n",
              " '119587',\n",
              " 'Mariaa_Kuczynskaa',\n",
              " '126212',\n",
              " 'Agnieszka_Dziudzi',\n",
              " 'HubiJohn98',\n",
              " 'Kacper_Kaszuba',\n",
              " '117394',\n",
              " '117370',\n",
              " 'Mateusz_Wryszcz',\n",
              " 'wpzborowski',\n",
              " 'natalia.rogosch',\n",
              " 'JakubKania',\n",
              " '112777',\n",
              " '117357',\n",
              " '126084',\n",
              " 'Jakub_Niedziolka',\n",
              " 'Joanna_Szalkowska',\n",
              " 'Rafal.Keszycki',\n",
              " 'Tomasz_Radosz',\n",
              " 'Wiktor_Mikolajczak',\n",
              " 'Szymon_Gieszcz',\n",
              " '115141',\n",
              " 'Gabriela_Gardas',\n",
              " 'Aleksandra_Niewiadomska',\n",
              " 'Karolina.Kwietniewska',\n",
              " 'MichalRudolf',\n",
              " '117422',\n",
              " '112094',\n",
              " 'ania.barton',\n",
              " 'Studint',\n",
              " '117359',\n",
              " '117375',\n",
              " 'przemek.wieczorek',\n",
              " 'KacperStelmaszyk',\n",
              " '117369',\n",
              " '126086',\n",
              " 'Widmo1',\n",
              " 'Widmo2',\n",
              " 'Widmo3',\n",
              " '115128',\n",
              " '126089',\n",
              " 'AlicjaKraska',\n",
              " 'Mariia_Salganik',\n",
              " 'monika.sadkowska']"
            ]
          },
          "metadata": {},
          "execution_count": 73
        }
      ]
    }
  ]
}