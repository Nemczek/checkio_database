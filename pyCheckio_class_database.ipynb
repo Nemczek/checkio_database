{
  "nbformat": 4,
  "nbformat_minor": 0,
  "metadata": {
    "colab": {
      "provenance": [],
      "authorship_tag": "ABX9TyN50zwxjXaVZhRM+Ylebc33",
      "include_colab_link": true
    },
    "kernelspec": {
      "name": "python3",
      "display_name": "Python 3"
    },
    "language_info": {
      "name": "python"
    }
  },
  "cells": [
    {
      "cell_type": "markdown",
      "metadata": {
        "id": "view-in-github",
        "colab_type": "text"
      },
      "source": [
        "<a href=\"https://colab.research.google.com/github/Nemczek/checkio_database/blob/main/pyCheckio_class_database.ipynb\" target=\"_parent\"><img src=\"https://colab.research.google.com/assets/colab-badge.svg\" alt=\"Open In Colab\"/></a>"
      ]
    },
    {
      "cell_type": "markdown",
      "source": [
        "# Project pyCheckio"
      ],
      "metadata": {
        "id": "W0dFKkymJbUV"
      }
    },
    {
      "cell_type": "markdown",
      "source": [
        "This project downloads data about our class from [CheckIo](https://checkio.org) and stores it in SQLite database."
      ],
      "metadata": {
        "id": "vuLsMIfE2Jpl"
      }
    },
    {
      "cell_type": "markdown",
      "source": [
        "## Setting up"
      ],
      "metadata": {
        "id": "LPW8eWDNohM2"
      }
    },
    {
      "cell_type": "code",
      "execution_count": 60,
      "metadata": {
        "id": "xvAMCuKTJX7u"
      },
      "outputs": [],
      "source": [
        "# importing libraries\n",
        "import requests\n",
        "import pandas as pd\n",
        "from collections import Counter"
      ]
    },
    {
      "cell_type": "code",
      "source": [
        "# static variables\n",
        "BASE_URL = 'https://py.checkio.org/api/group-details/'\n",
        "GROUP_PROGRESS_API_BASE = 'https://py.checkio.org/api/group-progress/'\n",
        "GROUP_ACTIVITY_API_BASE = 'https://py.checkio.org/api/group-activity/'\n",
        "# Here you need to put your personal group token\n",
        "TOKEN = None\n",
        "\n",
        "URL_WITH_TOKEN = BASE_URL + TOKEN\n",
        "PROGRESS_API_WITH_TOKEN = GROUP_PROGRESS_API_BASE + TOKEN\n",
        "ACTIVITY_API_WITH_TOKEN = GROUP_ACTIVITY_API_BASE + TOKEN"
      ],
      "metadata": {
        "id": "vpHhnRx8Pjiv"
      },
      "execution_count": 61,
      "outputs": []
    },
    {
      "cell_type": "code",
      "source": [
        "# listing all classes\n",
        "requests.get(URL_WITH_TOKEN).json()['objects']"
      ],
      "metadata": {
        "id": "Jkf75Nc-VPru"
      },
      "execution_count": null,
      "outputs": []
    },
    {
      "cell_type": "code",
      "source": [
        "def get_slug(url):\n",
        "  \"\"\"\n",
        "  Returns slag parameter of our current class\n",
        "\n",
        "  Parameters:\n",
        "  url (str): URL to our class details\n",
        "\n",
        "  Returns:\n",
        "  slug (str): the slug parameter\n",
        "  \"\"\"\n",
        "  slug = requests.get(url).json()['objects'][4]['slug'] # 4 is the index of our class\n",
        "  return slug\n",
        "print(get_slug(URL_WITH_TOKEN))"
      ],
      "metadata": {
        "colab": {
          "base_uri": "https://localhost:8080/"
        },
        "id": "K3Yb5-DoJ4sD",
        "outputId": "ba163e9e-1352-4ab6-e9a2-b947b551d33e"
      },
      "execution_count": 63,
      "outputs": [
        {
          "output_type": "stream",
          "name": "stdout",
          "text": [
            "michal-wojcik-2022-2023\n"
          ]
        }
      ]
    },
    {
      "cell_type": "markdown",
      "source": [
        "## Activity API"
      ],
      "metadata": {
        "id": "cRFo117uoc0d"
      }
    },
    {
      "cell_type": "code",
      "source": [
        "# This API gives us acces to the latest activity of users\n",
        "class_slug = get_slug(URL_WITH_TOKEN)\n",
        "activity_url_with_slug = f\"{ACTIVITY_API_WITH_TOKEN}&slug={class_slug}\"\n",
        "\n",
        "resp = requests.get(activity_url_with_slug).json()['objects']\n",
        "resp[2]"
      ],
      "metadata": {
        "id": "dckeVwmZPffJ",
        "colab": {
          "base_uri": "https://localhost:8080/"
        },
        "outputId": "d5b610f6-0b24-469b-cd77-4c2e30de677a"
      },
      "execution_count": 64,
      "outputs": [
        {
          "output_type": "execute_result",
          "data": {
            "text/plain": [
              "{'username': '126086',\n",
              " 'createdAt': '2023-01-09',\n",
              " 'data': {'task': {'imageUrl': 'https://d17mnqrx9pmt3e.cloudfront.net/media/logos/task/normal/password-enabled.png',\n",
              "   'shortText': 'Verify password by condition\\n',\n",
              "   'subject': 'Acceptable Password I',\n",
              "   'type': 'task',\n",
              "   'url': '/mission/acceptable-password-i/'},\n",
              "  'type': 'implementation',\n",
              "  'user': {'avatarUrl': 'https://www.gravatar.com/avatar/c13a3f1c3609338a3cc532e0eacc70eb?s=80',\n",
              "   'level': 4,\n",
              "   'username': '126086',\n",
              "   'group': {'name': 'Michal Wojcik 2022-2023',\n",
              "    'url': '/class/michal-wojcik-2022-2023/',\n",
              "    'owner': 'MichalRyszardWojcik',\n",
              "    'slug': 'michal-wojcik-2022-2023'},\n",
              "   'type': 'user',\n",
              "   'url': '/user/126086/'},\n",
              "  'url': '/class/michal-wojcik-2022-2023/solution-history/3510415/'}}"
            ]
          },
          "metadata": {},
          "execution_count": 64
        }
      ]
    },
    {
      "cell_type": "markdown",
      "source": [
        "## Progress API"
      ],
      "metadata": {
        "id": "x8WDeL6roXzs"
      }
    },
    {
      "cell_type": "markdown",
      "source": [
        "This is main target of this project since all intresting data is here"
      ],
      "metadata": {
        "id": "vuE3NHDP3Qkn"
      }
    },
    {
      "cell_type": "code",
      "source": [
        "# Get data from API\n",
        "progress_url_with_slug = f\"{PROGRESS_API_WITH_TOKEN}&slug={class_slug}\"\n",
        "progress_data = requests.get(progress_url_with_slug).json()['objects']"
      ],
      "metadata": {
        "id": "1RoKJuxwoatj"
      },
      "execution_count": 65,
      "outputs": []
    },
    {
      "cell_type": "code",
      "source": [
        "progress_data[0] # Look on data"
      ],
      "metadata": {
        "id": "ldT5meEI9QZ0"
      },
      "execution_count": null,
      "outputs": []
    },
    {
      "cell_type": "markdown",
      "source": [
        "## Quest dataset"
      ],
      "metadata": {
        "id": "RCBjZYJnrcjA"
      }
    },
    {
      "cell_type": "code",
      "source": [
        "# unique statuses\n",
        "statuses = []\n",
        "for task in progress_data:\n",
        "  for user in task['data']:\n",
        "    statuses.append(user['status'])\n",
        "set(statuses)"
      ],
      "metadata": {
        "colab": {
          "base_uri": "https://localhost:8080/"
        },
        "id": "upVAxQqnAPNW",
        "outputId": "75789f6e-2ad5-4de7-fbee-9b91899d3310"
      },
      "execution_count": 68,
      "outputs": [
        {
          "output_type": "execute_result",
          "data": {
            "text/plain": [
              "{'new', 'opened', 'published', 'tried'}"
            ]
          },
          "metadata": {},
          "execution_count": 68
        }
      ]
    },
    {
      "cell_type": "code",
      "source": [
        "# Extract data about tasks solved by students to list of lists\n",
        "list_of_tasks = []\n",
        "for task in progress_data:\n",
        "  num_of_votes = 0\n",
        "  num_of_comments = 0\n",
        "  num_of_tries = 0\n",
        "  list_of_statuses = []\n",
        "\n",
        "  for entry in task['data']:\n",
        "    list_of_statuses.append(entry['status'])\n",
        "\n",
        "    for solution in entry['solutions']:\n",
        "      num_of_votes += solution['votes']\n",
        "      num_of_comments += solution['comments']\n",
        "\n",
        "  counter_object = Counter(list_of_statuses)\n",
        "  list_of_tasks.append([task['title'], num_of_votes, num_of_comments,\n",
        "                        counter_object['opened'], counter_object['published'],\n",
        "                        counter_object['tried'], counter_object['new']])\n",
        "list_of_tasks"
      ],
      "metadata": {
        "id": "4sQyEoYkAm07"
      },
      "execution_count": null,
      "outputs": []
    },
    {
      "cell_type": "code",
      "source": [
        "# Change list of lists to pandas DataFrame\n",
        "task_data = pd.DataFrame(list_of_tasks, columns=['Task', 'Votes', 'Comments',\n",
        "                                                 'Opened', 'Published', 'Tried',\n",
        "                                                 'New'])\n",
        "task_data"
      ],
      "metadata": {
        "id": "GxKWnt9dD8-k"
      },
      "execution_count": null,
      "outputs": []
    },
    {
      "cell_type": "markdown",
      "source": [
        "## Every user attempt dataset"
      ],
      "metadata": {
        "id": "PMJydy1ArOrk"
      }
    },
    {
      "cell_type": "code",
      "source": [
        "# Extract data about every student's attempt to solve task to list of lists\n",
        "list_of_entries = []\n",
        "\n",
        "for task in progress_data:\n",
        "  task_name = task['title']\n",
        "\n",
        "  for entry in task['data']:\n",
        "    username = entry['username']\n",
        "    status = entry['status']\n",
        "\n",
        "    if len(entry['solutions']) == 0:\n",
        "      url, createdAt, votes, comments = \"None\", \"None\", \"None\", \"None\"\n",
        "    else:\n",
        "      # I'm taking only first solution\n",
        "      url = entry['solutions'][0]['url']\n",
        "      createdAt = entry['solutions'][0]['createdAt']\n",
        "      votes = entry['solutions'][0]['votes']\n",
        "      comments = entry['solutions'][0]['comments']\n",
        "\n",
        "    list_of_entries.append([username, status, task_name, createdAt, votes, comments, url])\n",
        ""
      ],
      "metadata": {
        "id": "2WavZtJAr9yk"
      },
      "execution_count": null,
      "outputs": []
    },
    {
      "cell_type": "code",
      "source": [
        "# Convert to pandas data frame\n",
        "entry_df = pd.DataFrame(list_of_entries, columns=['username', 'status',\n",
        "                                                  'task_name', 'createdAt',\n",
        "                                                  'votes', 'comments', 'url'])\n",
        "entry_df"
      ],
      "metadata": {
        "id": "UP9bSWK1tE2r"
      },
      "execution_count": null,
      "outputs": []
    },
    {
      "cell_type": "markdown",
      "source": [
        "## Exporting data to SQL"
      ],
      "metadata": {
        "id": "Ss9ToOr-z5Mc"
      }
    },
    {
      "cell_type": "code",
      "source": [
        "%%capture\n",
        "db_name = \"checkio_class.db\"\n",
        "\n",
        "%load_ext sql\n",
        "%sql sqlite:///{db_name}\n",
        "\n",
        "import sqlalchemy as db\n",
        "engine = db.create_engine(f'sqlite:///{db_name}')\n",
        "\n",
        "entry_df.to_sql('entry_df', engine, index=False)\n",
        "task_data.to_sql('task_data', engine, index=False)\n",
        "# This code whill throw an error if database alredy exists."
      ],
      "metadata": {
        "id": "Vbu9IN5Fy23D"
      },
      "execution_count": null,
      "outputs": []
    },
    {
      "cell_type": "code",
      "source": [
        "# Some tests to check if everything went well\n",
        "\n",
        "import sqlite3 as sq\n",
        "connection = sq.connect(db_name)\n",
        "cursor = connection.cursor()\n",
        "\n",
        "query = \"SELECT * from task_data;\"\n",
        "result = cursor.execute(query)\n",
        "rows = result.fetchall()\n",
        "\n",
        "pd.DataFrame(rows, columns=map(lambda x: x[0], result.description))"
      ],
      "metadata": {
        "id": "zdMe3JB0841a"
      },
      "execution_count": null,
      "outputs": []
    },
    {
      "cell_type": "code",
      "source": [
        "query2 = 'SELECT * FROM entry_df'\n",
        "result2 = cursor.execute(query2)\n",
        "rows2 = result2.fetchall()\n",
        "\n",
        "pd.DataFrame(rows2, columns=map(lambda x: x[0], result2.description))"
      ],
      "metadata": {
        "id": "ezed1gqR_Y0R"
      },
      "execution_count": null,
      "outputs": []
    },
    {
      "cell_type": "code",
      "source": [
        "query3 = \"SELECT * FROM entry_df WHERE NOT votes = 'None' AND username = 'Antoni_Wojcik'\"\n",
        "result3 = cursor.execute(query3)\n",
        "rows3 = result3.fetchall()\n",
        "\n",
        "pd.DataFrame(rows3, columns=map(lambda x: x[0], result3.description))"
      ],
      "metadata": {
        "id": "IxMvmZjkCmPc"
      },
      "execution_count": null,
      "outputs": []
    }
  ]
}